{
 "cells": [
  {
   "cell_type": "markdown",
   "metadata": {},
   "source": [
    "__Revbayes Final Assignment__\n",
    "\n",
    "Species tree and diversification were estimated by applying a concatenated model to 4 gene alignments from 24 _Cercospora_ lineages using RevBayes version 1.0.4. The sequences are assumed to have evolved according to the HKY model with gamma distributed rate of variation amoung sites given that all 4 genes share the same tree. Four independent replicates were conducted, three of which executed 7000 iterations with a 10% burn-in and the fourht 10000 iterations with a 10% burn-in under default settings. The resulting tree(s) were calibrated by assuming the crown age of the genus _Cercospora_ is around 80MYA. Thusly, the prior on the root age was specified with mean 80 and a standard deviation of 2.5 within a truncated normal distribution at 0. Parameter ESS values, the marginal probability distributions and the trace were examined with Tracer version 1.6.\n",
    "\n",
    "\n",
    "<img src=\"Cercospora_combinedTrace.png\">\n",
    "\n",
    "__Figure 1. Combined trace plot Priors from the first Three replicates.__\n",
    "The trace shows relatively well mixing from MCMC indicating that the priors chosen were appropriate.\n",
    "\n",
    "\n",
    "<img src=\"Cercospora_Posterior_combinedTrace1.png\">\n",
    "\n",
    "__Figure 2. Combined trace plot of Posteriors from the first Three replicates.__\n",
    "The trace shows rather apparent ridges and valleys from MCMC indicating sampling of the parameter space was, perhaps, poor. Sources of such trends could be the result of fitting an inappropriate model or too many parameters for an appropriate model. \n",
    "\n",
    "\n",
    "<img src=\"Cercospora_rep1_PosteriorTrace.png\">\n",
    "\n",
    "__Figure 3. Trace plot of Posteriors for the first replicate.__\n",
    "The first replicate here seems to have found an area of parameter space conducive for well mixed sampling--shown by a gradual rising trend and level mixing.\n",
    "\n",
    "<img src=\"Cercospora_rep1_PosteriorTrace.png\">\n",
    "\n",
    "__Figure 4. Trace plot of Posteriors for the fourth replicate.__\n",
    "Similare the the first replicate, this trace shows better sampling of parameter space compared to replicates 2 and 3 where the ridges and valleys were introduced. \n",
    "\n",
    "<img src=\"cercospora_rep4.trees.png\">\n",
    "\n",
    "__Figure 5. Species Tree from replicate 4.__\n",
    "\n",
    "\n",
    "<img src=\"Cercospora_SpeciationExtinctionRates_rep4.png\">\n",
    "\n",
    "__Figure 6. Plot of Relative Extinction and Speciation.__\n",
    "\n",
    "Here the plot shows that there is a decent rate of diversification in the genus _Cercospora_.\n",
    "\n",
    "\n",
    "\n",
    "\n",
    "\n",
    "References\n",
    "Boussau, B., L. Guéguen, and M. Gouy. 2009. A mixture model and a hidden markov model to simultane-\n",
    "ously detect recombination breakpoints and reconstruct phylogenies. Evolutionary bioinformatics online\n",
    "5:67.\n",
    "Leaché, A. D. and B. Rannala. 2011. The accuracy of species tree estimation under simulation: a comparison\n",
    "of methods. Systematic Biology 60:126–137."
   ]
  },
  {
   "cell_type": "code",
   "execution_count": null,
   "metadata": {
    "collapsed": true
   },
   "outputs": [],
   "source": []
  }
 ],
 "metadata": {
  "kernelspec": {
   "display_name": "Python 3",
   "language": "python",
   "name": "python3"
  },
  "language_info": {
   "codemirror_mode": {
    "name": "ipython",
    "version": 3
   },
   "file_extension": ".py",
   "mimetype": "text/x-python",
   "name": "python",
   "nbconvert_exporter": "python",
   "pygments_lexer": "ipython3",
   "version": "3.6.0"
  }
 },
 "nbformat": 4,
 "nbformat_minor": 2
}
